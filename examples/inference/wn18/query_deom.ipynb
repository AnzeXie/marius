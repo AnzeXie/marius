{
 "metadata": {
  "language_info": {
   "codemirror_mode": {
    "name": "ipython",
    "version": 3
   },
   "file_extension": ".py",
   "mimetype": "text/x-python",
   "name": "python",
   "nbconvert_exporter": "python",
   "pygments_lexer": "ipython3",
   "version": "3.8.5-final"
  },
  "orig_nbformat": 2,
  "kernelspec": {
   "name": "python38564bit6ecb894b122f423dade1a1bf8c4952d1",
   "display_name": "Python 3.8.5 64-bit",
   "language": "python"
  }
 },
 "nbformat": 4,
 "nbformat_minor": 2,
 "cells": [
  {
   "source": [
    "# Query Marius Output for WN18 #\n",
    "This notebook shows the steps of doing inferencing with Marius output for dataset *WN18*. The example inference we used here has a node name of *__wisconsin_NN_2* and a relation type of *_instance_hypernym*."
   ],
   "cell_type": "markdown",
   "metadata": {}
  },
  {
   "source": [
    "### Import function ###"
   ],
   "cell_type": "markdown",
   "metadata": {}
  },
  {
   "cell_type": "code",
   "execution_count": 1,
   "metadata": {},
   "outputs": [],
   "source": [
    "import marius_infer as mi"
   ]
  },
  {
   "source": [
    "### Get embedding of nodes and relations ###"
   ],
   "cell_type": "markdown",
   "metadata": {}
  },
  {
   "cell_type": "code",
   "execution_count": 2,
   "metadata": {},
   "outputs": [],
   "source": [
    "node_embeddings = mi.tensor_from_file(\"node\")\n",
    "relation_embeddings = mi.tensor_from_file(\"rel\")"
   ]
  },
  {
   "source": [
    "### Obtain the embedding vectors for given node and relation in our inference example ###"
   ],
   "cell_type": "markdown",
   "metadata": {}
  },
  {
   "cell_type": "code",
   "execution_count": 3,
   "metadata": {},
   "outputs": [],
   "source": [
    "src_node = \"__wisconsin_NN_2\"\n",
    "relation = \"_instance_hypernym\"\n",
    "\n",
    "src_emb = mi.lookup_embedding(\"node\", src_node, node_embeddings)\n",
    "rel_emb = mi.lookup_embedding(\"rel\", relation, relation_embeddings)"
   ]
  },
  {
   "source": [
    "### Get top 10 nodes and similarity scores that are inferenced based on given node and relation ###"
   ],
   "cell_type": "markdown",
   "metadata": {}
  },
  {
   "cell_type": "code",
   "execution_count": 10,
   "metadata": {},
   "outputs": [
    {
     "output_type": "execute_result",
     "data": {
      "text/plain": [
       "['__american_state_NN_1', '__madison_NN_2', '__midwestern_united_states_NN_1']"
      ]
     },
     "metadata": {},
     "execution_count": 10
    }
   ],
   "source": [
    "scores, topk = mi.infer_topk_nodes(3, src_emb, rel_emb, node_embeddings)\n",
    "topk"
   ]
  },
  {
   "cell_type": "code",
   "execution_count": 11,
   "metadata": {},
   "outputs": [
    {
     "output_type": "execute_result",
     "data": {
      "text/plain": [
       "tensor([12.8738,  9.9087,  8.6178])"
      ]
     },
     "metadata": {},
     "execution_count": 11
    }
   ],
   "source": [
    "scores"
   ]
  },
  {
   "cell_type": "code",
   "execution_count": 12,
   "metadata": {},
   "outputs": [
    {
     "output_type": "execute_result",
     "data": {
      "text/plain": [
       "['__sweden_NN_1', '__norway_NN_1', '__kingdom_of_denmark_NN_1']"
      ]
     },
     "metadata": {},
     "execution_count": 12
    }
   ],
   "source": [
    "#__scandinavia_NN_2, _member_meronym, __kingdom_of_denmark_NN_1\n",
    "src_node = \"__scandinavia_NN_2\"  \n",
    "relation = \"_member_meronym\"\n",
    "\n",
    "src_emb = mi.lookup_embedding(\"node\", src_node, node_embeddings)\n",
    "rel_emb = mi.lookup_embedding(\"rel\", relation, relation_embeddings)\n",
    "\n",
    "scores, topk = mi.infer_topk_nodes(3, src_emb, rel_emb, node_embeddings)\n",
    "topk"
   ]
  },
  {
   "cell_type": "code",
   "execution_count": 11,
   "metadata": {},
   "outputs": [
    {
     "output_type": "execute_result",
     "data": {
      "text/plain": [
       "['__national_capital_NN_1', '__range_of_mountains_NN_1', '__town_NN_1']"
      ]
     },
     "metadata": {},
     "execution_count": 11
    }
   ],
   "source": [
    "#__kobenhavn_NN_1, _instance_hypernym, __national_capital_NN_1\n",
    "src_node = \"__kobenhavn_NN_1\"  \n",
    "relation = \"_instance_hypernym\"\n",
    "\n",
    "src_emb = mi.lookup_embedding(\"node\", src_node, node_embeddings)\n",
    "rel_emb = mi.lookup_embedding(\"rel\", relation, relation_embeddings)\n",
    "\n",
    "scores, topk = mi.infer_topk_nodes(3, src_emb, rel_emb, node_embeddings)\n",
    "topk"
   ]
  }
 ]
}